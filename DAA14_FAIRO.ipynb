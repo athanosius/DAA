{
  "nbformat": 4,
  "nbformat_minor": 0,
  "metadata": {
    "colab": {
      "provenance": []
    },
    "kernelspec": {
      "name": "python3",
      "display_name": "Python 3"
    },
    "language_info": {
      "name": "python"
    }
  },
  "cells": [
    {
      "cell_type": "code",
      "execution_count": 6,
      "metadata": {
        "id": "WzUEXuFHfur8"
      },
      "outputs": [],
      "source": [
        "import networkx as nx\n",
        "import matplotlib.pyplot as plt"
      ]
    },
    {
      "cell_type": "code",
      "source": [
        "vertices = range(1,10)\n",
        "edges = [(7,2), (2,3), (7,4), (4,5), (7,3), (7,5),(1,6),(1,7),(2,8),(2,9)]\n",
        "G = nx.Graph()"
      ],
      "metadata": {
        "id": "ugMCuX7rgCSW"
      },
      "execution_count": 7,
      "outputs": []
    },
    {
      "cell_type": "code",
      "source": [
        "G.add_nodes_from(vertices)\n",
        "G.add_edges_from(edges)\n",
        "pos = nx.spring_layout(G)"
      ],
      "metadata": {
        "id": "kvj5I29WgE-C"
      },
      "execution_count": 8,
      "outputs": []
    },
    {
      "cell_type": "code",
      "source": [
        "nx.draw_networkx_nodes(G,pos,\n",
        "                       nodelist=[1,4,3,8,9],\n",
        "                       node_color='g',\n",
        "                       node_size=1300)"
      ],
      "metadata": {
        "colab": {
          "base_uri": "https://localhost:8080/",
          "height": 265
        },
        "id": "RKzWnqnkgQ8E",
        "outputId": "a9e5e87b-a459-4f7a-c909-398d4995c6cd"
      },
      "execution_count": 11,
      "outputs": [
        {
          "output_type": "execute_result",
          "data": {
            "text/plain": [
              "<matplotlib.collections.PathCollection at 0x7f75fd74cf90>"
            ]
          },
          "metadata": {},
          "execution_count": 11
        },
        {
          "output_type": "display_data",
          "data": {
            "text/plain": [
              "<Figure size 432x288 with 1 Axes>"
            ],
            "image/png": "[encoded data removed]"
          },
          "metadata": {}
        }
      ]
    },
    {
      "cell_type": "code",
      "source": [
        "nx.draw_networkx_nodes(G,pos,\n",
        "                       nodelist=[2,5,6,7],\n",
        "                       node_color='r',\n",
        "                       node_size=1300)"
      ],
      "metadata": {
        "colab": {
          "base_uri": "https://localhost:8080/",
          "height": 265
        },
        "id": "EJy4X3w_ghFj",
        "outputId": "147af37e-b08f-44a4-da52-5b079d315fbb"
      },
      "execution_count": 12,
      "outputs": [
        {
          "output_type": "execute_result",
          "data": {
            "text/plain": [
              "<matplotlib.collections.PathCollection at 0x7f75fd6cfbd0>"
            ]
          },
          "metadata": {},
          "execution_count": 12
        },
        {
          "output_type": "display_data",
          "data": {
            "text/plain": [
              "<Figure size 432x288 with 1 Axes>"
            ],
            "image/png": "[encoded data removed]"
          },
          "metadata": {}
        }
      ]
    },
    {
      "cell_type": "code",
      "source": [
        "nx.draw_networkx_edges(G,pos,edges,width=3,alpha=0.5,edge_color='b')\n",
        "labels={}\n",
        "labels[1]=r'1 NF'\n",
        "labels[2]=r'2 F'\n",
        "labels[3]=r'3 NF'\n",
        "labels[4]=r'4 NF'\n",
        "labels[5]=r'5 F'\n",
        "labels[6]=r'6 F'\n",
        "labels[7]=r'7 F'\n",
        "labels[8]=r'8 NF'\n",
        "labels[9]=r'9 NF'\n",
        "nx.draw_networkx_labels(G,pos,labels,font_size=16)"
      ],
      "metadata": {
        "colab": {
          "base_uri": "https://localhost:8080/",
          "height": 404
        },
        "id": "Rc4dHVK-gybw",
        "outputId": "d8dd4f19-4d54-4438-f6a3-4221cb404a2d"
      },
      "execution_count": 17,
      "outputs": [
        {
          "output_type": "execute_result",
          "data": {
            "text/plain": [
              "{1: Text(-0.09671186529999898, -0.6031403849078159, '1 NF'),\n",
              " 2: Text(-0.1658390526456881, 0.4206868763370468, '2 F'),\n",
              " 3: Text(0.10041381934977416, 0.2639031928464055, '3 NF'),\n",
              " 4: Text(0.4686746207843626, -0.34448722818590916, '4 NF'),\n",
              " 5: Text(0.561076326635384, -0.1073942096611766, '5 F'),\n",
              " 6: Text(-0.2538654583307423, -1.0, '6 F'),\n",
              " 7: Text(0.12620596592019087, -0.09422549401185112, '7 F'),\n",
              " 8: Text(-0.5694300719267716, 0.5938781369676511, '8 NF'),\n",
              " 9: Text(-0.1705242844865118, 0.8707791106156492, '9 NF')}"
            ]
          },
          "metadata": {},
          "execution_count": 17
        },
        {
          "output_type": "display_data",
          "data": {
            "text/plain": [
              "<Figure size 432x288 with 1 Axes>"
            ],
            "image/png": "[encoded data removed]"
          },
          "metadata": {}
        }
      ]
    },
    {
      "cell_type": "code",
      "source": [],
      "metadata": {
        "id": "PQexTFuAg96P"
      },
      "execution_count": null,
      "outputs": []
    }
  ]
}