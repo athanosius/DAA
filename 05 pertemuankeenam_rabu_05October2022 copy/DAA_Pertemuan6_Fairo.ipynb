{
  "nbformat": 4,
  "nbformat_minor": 0,
  "metadata": {
    "colab": {
      "provenance": []
    },
    "kernelspec": {
      "name": "python3",
      "display_name": "Python 3"
    },
    "language_info": {
      "name": "python"
    }
  },
  "cells": [
    {
      "cell_type": "code",
      "source": [
        "import random \n",
        "from itertools import permutations\n",
        "alltours = permutations\n",
        "\n",
        "def distance_tour(aTour):\n",
        "    return sum(distancepoint(aTour[i - 1], aTour[i])\n",
        "        for i in range(len(aTour)))\n",
        "\n",
        "aCity = complex \n",
        "\n",
        "def distancepoint(First, Second):\n",
        "    return abs(first - second)\n",
        "\n",
        "def generate_cities (number_of_cities):\n",
        "    seed=111;width=500;height=300\n",
        "    random.seed((number_of_cities, seed))\n",
        "    return frozenset(aCity(random.randint(1, height)))\n",
        "        for c in range(number_of_cities))\n"
      ],
      "metadata": {
        "colab": {
          "base_uri": "https://localhost:8080/",
          "height": 130
        },
        "id": "CmaOdGU14tr2",
        "outputId": "8d35a4f1-48fa-4cfd-8650-3b4f2e5855a5"
      },
      "execution_count": null,
      "outputs": [
        {
          "output_type": "error",
          "ename": "IndentationError",
          "evalue": "ignored",
          "traceback": [
            "\u001b[0;36m  File \u001b[0;32m\"<ipython-input-13-205c3dc494b1>\"\u001b[0;36m, line \u001b[0;32m18\u001b[0m\n\u001b[0;31m    for c in range(number_of_cities))\u001b[0m\n\u001b[0m    ^\u001b[0m\n\u001b[0;31mIndentationError\u001b[0m\u001b[0;31m:\u001b[0m unexpected indent\n"
          ]
        }
      ]
    },
    {
      "cell_type": "code",
      "execution_count": null,
      "metadata": {
        "id": "Gmnm9yrT4soJ"
      },
      "outputs": [],
      "source": [
        "import matplotlib.pyplot as plt\n",
        "\n",
        "def X(city):\n",
        "    return city.real\n",
        "\n",
        "def Y(city):\n",
        "    return city.imag \n",
        "\n",
        "def visualize_segment(segment, style='bo-'):\n",
        "    plt.plot([X(c) for c in segment], [Y(c) for c in segment], style, clip_on=False)\n",
        "    plt.axis('scaled')\n",
        "    plt.axis('off')\n",
        "    \n",
        "def visualize_tour(tour, style='bo-'):\n",
        "    if len(tour) > 1000:\n",
        "        plt.figure(figsize=(15, 10))\n",
        "        start = tour[0:1]\n",
        "\n",
        "        visualize_segment(tour + start, style)\n",
        "        visualize_segment(start, 'rD')"
      ]
    },
    {
      "cell_type": "code",
      "source": [
        "string = 'HUFFMAN'\n",
        "\n",
        "#creating tree nodes\n",
        "\n",
        "class NodeTree(object):\n",
        "  def __init__(self, left=None, right=None):\n",
        "    self.left = left\n",
        "    self.right = right\n",
        "  \n",
        "  def children(self):\n",
        "    return (self.left, self.right)\n",
        "  \n",
        "  def nodes(self):\n",
        "    return (self.left, self.right)\n",
        "  \n",
        "  def __str__(self):\n",
        "    return '%s_%s' % (self.left, self.right)"
      ],
      "metadata": {
        "id": "EBqVEmrS9cK8"
      },
      "execution_count": null,
      "outputs": []
    },
    {
      "cell_type": "code",
      "source": [
        "#main function implementing huffman coding \n",
        "def huffman_code_tree(node, left=True, binString=' '):\n",
        "  if type(node) is str: \n",
        "    return {node: binString}\n",
        "\n",
        "  (l, r) = node.children()\n",
        "  d = dict()\n",
        "  d.update(huffman_code_tree(l, True, binString + '0'))\n",
        "  d.update(huffman_code_tree(r, False, binString + '1'))\n",
        "  return d"
      ],
      "metadata": {
        "id": "WtTh_Dmx-Ja3"
      },
      "execution_count": null,
      "outputs": []
    },
    {
      "cell_type": "code",
      "source": [
        "# calculating frequency\n",
        "freq = {}\n",
        "for c in string:\n",
        "  if c in freq:\n",
        "    freq[c] += 1\n",
        "  else:\n",
        "    freq[c] = 1\n",
        "\n",
        "freq = sorted(freq.items(), key=lambda x: x[1], reverse=True)\n",
        "\n",
        "nodes = freq\n",
        "\n",
        "while len (nodes) > 1:\n",
        "  (key1, c1) = nodes[-1]\n",
        "  (key2, c2) = nodes[-2]\n",
        "  nodes = nodes[:-2]\n",
        "  node = NodeTree(key1, key2)\n",
        "  nodes.append((node, c1 + c2))\n",
        "\n",
        "  nodes = sorted(nodes, key=lambda x: x[1], reverse=True)\n",
        "\n",
        "huffmanCode = huffman_code_tree(nodes[0][0])\n",
        "\n",
        "print(' Char | Huffman Code ')\n",
        "print('---------------------')\n",
        "for (char, frequency) in freq:\n",
        "  print(' %-4r |%12s' % (char, huffmanCode[char]))\n",
        "\n"
      ],
      "metadata": {
        "colab": {
          "base_uri": "https://localhost:8080/"
        },
        "id": "AZK9G0i4-r59",
        "outputId": "745d4d31-613e-419c-bffb-75c1c70d108a"
      },
      "execution_count": null,
      "outputs": [
        {
          "output_type": "stream",
          "name": "stdout",
          "text": [
            " Char | Huffman Code \n",
            "---------------------\n",
            " 'F'  |          11\n",
            " 'H'  |          00\n",
            " 'U'  |         011\n",
            " 'M'  |         010\n",
            " 'A'  |         101\n",
            " 'N'  |         100\n"
          ]
        }
      ]
    },
    {
      "cell_type": "code",
      "source": [
        "import random\n",
        "from itertools import permutations\n",
        "alltours = permutations\n",
        "\n",
        "def distance_tour(aTour):\n",
        "    return sum(distance_points(aTour[i - 1], aTour[i])\n",
        "        for i in range(len(aTour)))\n",
        "\n",
        "aCity = complex\n",
        "\n",
        "def distance_points(first, second):\n",
        "    return abs(first - second)\n",
        "\n",
        "def generate_cities (number_of_cities):\n",
        "    seed=111;width=500;height=300\n",
        "    random.seed((number_of_cities, seed))\n",
        "    return frozenset(aCity(random.randint(1, width), random.randint(1, width))\n",
        "        for c in range(number_of_cities)) "
      ],
      "metadata": {
        "id": "gmkeMY4LB9Tx"
      },
      "execution_count": null,
      "outputs": []
    },
    {
      "cell_type": "code",
      "source": [
        "%matplotlib inline\n",
        "import matplotlib.pyplot as plt\n",
        "\n",
        "def visualize_tour(tour, style='bo'):\n",
        "    if len(tour) > 1000: plt.figure(figsize=(15,10))\n",
        "    start = tour[0:1]\n",
        "    visualize_segment(tour + start, style)\n",
        "    visualize_segment(start, 'rD')\n",
        "def visualize_segment(segment, style='bo'):\n",
        "        plt.plot([X(c) for c in segment], [Y(c) for c in segment], style, clip_on=False)\n",
        "        plt.axis('scaled')\n",
        "        plt.axis('off')\n",
        "\n",
        "def X(city): \"X axis\"; return city.real\n",
        "def Y(city): \"Y axis\"; return city.imag \n",
        "\n"
      ],
      "metadata": {
        "id": "jbC33F0JARPs"
      },
      "execution_count": null,
      "outputs": []
    },
    {
      "cell_type": "code",
      "source": [
        "from time import process_time\n",
        "from collections import Counter\n",
        "\n",
        "def tsp(algorithm, cities):\n",
        "    t0 = process_time()\n",
        "    tour = algorithm(cities)\n",
        "    t1 = process_time()\n",
        "    assert Counter(tour) == Counter(cities)\n",
        "    visualize_tour(tour)\n",
        "    print(\"{}:{} cities => tour length {:.0f}(in {:.3f} sec)\".format(name(algorithm), len(tour), distance_tour(tour), t1-t0))\n",
        "\n",
        "def name(algorithm): return algorithm.__name__.replace('_tsp_','') \n",
        "def greedy_algorithm(cities, start=None):\n",
        "    C = start or first(cities)\n",
        "    tour = [C]\n",
        "    unvisited = set(cities - {C})\n",
        "    while unvisited:\n",
        "        C = nearest_neighbor(C, unvisited)\n",
        "        tour.append(C)\n",
        "        unvisited.remove(C)\n",
        "    return tour\n",
        "\n",
        "def first(collection): return next(iter(collection))\n",
        "\n",
        "def nearest_neighbor(A, cities):\n",
        "    return min(cities, key=lambda C: distance_points(C, A)) "
      ],
      "metadata": {
        "id": "7VqK3xXxCJMK"
      },
      "execution_count": null,
      "outputs": []
    },
    {
      "cell_type": "code",
      "source": [
        "tsp(greedy_algorithm, generate_cities(20))"
      ],
      "metadata": {
        "colab": {
          "base_uri": "https://localhost:8080/",
          "height": 265
        },
        "id": "jv93mR5MAtcq",
        "outputId": "2d713fb3-f363-407b-f302-20ddb40d81ae"
      },
      "execution_count": null,
      "outputs": [
        {
          "output_type": "stream",
          "name": "stdout",
          "text": [
            "greedy_algorithm:20 cities => tour length 2061(in 0.000 sec)\n"
          ]
        },
        {
          "output_type": "display_data",
          "data": {
            "text/plain": [
              "<Figure size 432x288 with 1 Axes>"
            ],
            "image/png": "[encoded data removed]"
          },
          "metadata": {
            "needs_background": "light"
          }
        }
      ]
    },
    {
      "cell_type": "code",
      "source": [],
      "metadata": {
        "id": "Qo41zPmsBzTb"
      },
      "execution_count": null,
      "outputs": []
    }
  ]
}